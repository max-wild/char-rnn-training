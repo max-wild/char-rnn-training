{
  "nbformat": 4,
  "nbformat_minor": 0,
  "metadata": {
    "colab": {
      "provenance": [],
      "gpuType": "A100",
      "machine_shape": "hm"
    },
    "kernelspec": {
      "name": "python3",
      "display_name": "Python 3"
    },
    "language_info": {
      "name": "python"
    },
    "accelerator": "GPU"
  },
  "cells": [
    {
      "cell_type": "code",
      "execution_count": null,
      "metadata": {
        "id": "5eQNh0EVnXVl"
      },
      "outputs": [],
      "source": [
        "import tensorflow as tf\n",
        "import matplotlib.pyplot as plt\n",
        "import numpy as np\n",
        "import platform\n",
        "import time\n",
        "import pathlib\n",
        "import os\n",
        "import json"
      ]
    },
    {
      "cell_type": "code",
      "source": [
        "!wget https://sherlock-holm.es/stories/plain-text/cnus.txt\n",
        "\n",
        "DATABASE_FILEPATH = 'cnus.txt'\n",
        "\n",
        "sequence_length = 100\n",
        "BATCH_SIZE = 128\n",
        "BUFFER_SIZE = 12000  # Elements are stored in a buffer of this size\n",
        "\n",
        "embedding_dim = 128\n",
        "rnn_units = 896\n",
        "\n",
        "LEARNING_RATE = 0.001\n",
        "EPOCHS = 72"
      ],
      "metadata": {
        "colab": {
          "base_uri": "https://localhost:8080/"
        },
        "id": "q6Ie5MyBnczt",
        "outputId": "11f043fd-02b8-482f-b190-09a10f9d5e6e"
      },
      "execution_count": null,
      "outputs": [
        {
          "output_type": "stream",
          "name": "stdout",
          "text": [
            "--2024-03-24 23:45:54--  https://sherlock-holm.es/stories/plain-text/cnus.txt\n",
            "Resolving sherlock-holm.es (sherlock-holm.es)... 157.90.249.21, 2a01:4f8:1c17:5725::1\n",
            "Connecting to sherlock-holm.es (sherlock-holm.es)|157.90.249.21|:443... connected.\n",
            "HTTP request sent, awaiting response... 200 OK\n",
            "Length: 3382026 (3.2M) [text/plain]\n",
            "Saving to: ‘cnus.txt.1’\n",
            "\n",
            "cnus.txt.1          100%[===================>]   3.22M  2.82MB/s    in 1.1s    \n",
            "\n",
            "2024-03-24 23:45:56 (2.82 MB/s) - ‘cnus.txt.1’ saved [3382026/3382026]\n",
            "\n"
          ]
        }
      ]
    },
    {
      "cell_type": "code",
      "source": [
        "# Load text from the input database\n",
        "with open(DATABASE_FILEPATH, mode='r') as f:\n",
        "  all_content = f.read()\n",
        "\n",
        "print(f'{len(all_content)} characters loaded.')\n",
        "\n",
        "# Find all the unique characters in the file\n",
        "unique_chars = sorted(set(all_content))\n",
        "vocabulary_size = len(unique_chars)\n",
        "\n",
        "# Create index to vocabulary matching\n",
        "char_to_idx = {ch:i for i,ch in enumerate(unique_chars)}\n",
        "idx_to_char = np.array(unique_chars)\n",
        "\n",
        "# Encode the input text for training\n",
        "encoded_text = np.array([char_to_idx[char] for char in all_content])\n",
        "examples_per_epoch = len(all_content) // (sequence_length + 1)\n",
        "\n",
        "# Package the dataset into batches\n",
        "character_dataset = tf.data.Dataset.from_tensor_slices(encoded_text)\n",
        "sequences = character_dataset.batch(sequence_length + 1, drop_remainder=True)\n",
        "\n",
        "# Finalize the dataset\n",
        "def chunk_data(chunk):\n",
        "    input = chunk[:-1]\n",
        "    target = chunk[1:]\n",
        "    return input, target\n",
        "\n",
        "dataset = sequences.map(chunk_data)\n",
        "dataset = dataset.shuffle(BUFFER_SIZE).batch(BATCH_SIZE, drop_remainder=True)"
      ],
      "metadata": {
        "colab": {
          "base_uri": "https://localhost:8080/"
        },
        "id": "s-55jwgNng8l",
        "outputId": "55c914f9-a8d2-4bb0-d5f1-66d48cab79a8"
      },
      "execution_count": null,
      "outputs": [
        {
          "output_type": "stream",
          "name": "stdout",
          "text": [
            "3381928 characters loaded.\n"
          ]
        }
      ]
    },
    {
      "cell_type": "code",
      "source": [
        "def build_model(vocabulary_size, embedding_dim, rnn_units, batch_size):\n",
        "\n",
        "    model = tf.keras.models.Sequential()\n",
        "\n",
        "    model.add(tf.keras.layers.Embedding(\n",
        "      input_dim=vocabulary_size,\n",
        "      output_dim=embedding_dim,\n",
        "      batch_input_shape=[batch_size, None]\n",
        "    ))\n",
        "\n",
        "    model.add(tf.keras.layers.LSTM(\n",
        "      units=rnn_units,\n",
        "      return_sequences=True,\n",
        "      stateful=True,\n",
        "      recurrent_initializer=tf.keras.initializers.GlorotNormal()\n",
        "    ))\n",
        "\n",
        "    model.add(tf.keras.layers.Dense(vocabulary_size))\n",
        "\n",
        "    return model\n",
        "\n",
        "# Build the model\n",
        "model = build_model(vocabulary_size, embedding_dim, rnn_units, BATCH_SIZE)\n",
        "\n",
        "# Compile the model\n",
        "def loss(labels, logits):\n",
        "    return tf.keras.losses.sparse_categorical_crossentropy(\n",
        "      y_true=labels,\n",
        "      y_pred=logits,\n",
        "      from_logits=True\n",
        "    )\n",
        "adam_optimizer = tf.keras.optimizers.Adam(learning_rate=LEARNING_RATE)\n",
        "\n",
        "model.compile(\n",
        "    optimizer=adam_optimizer,\n",
        "    loss=loss\n",
        ")\n",
        "\n",
        "# Handle directory management for checkpoints\n",
        "checkpoint_dir = 'tmp/checkpoints'\n",
        "os.makedirs(checkpoint_dir, exist_ok=True)\n",
        "\n",
        "checkpoint_prefix = os.path.join(checkpoint_dir, 'ckpt_{epoch}')\n",
        "\n",
        "checkpoint_callback=tf.keras.callbacks.ModelCheckpoint(\n",
        "    filepath=checkpoint_prefix,\n",
        "    save_weights_only=True\n",
        ")\n",
        "\n",
        "model.summary()"
      ],
      "metadata": {
        "id": "ZayCNVLwnkld",
        "colab": {
          "base_uri": "https://localhost:8080/"
        },
        "outputId": "c4828ec6-d723-45a1-a29f-ad658cb86af9"
      },
      "execution_count": null,
      "outputs": [
        {
          "output_type": "stream",
          "name": "stdout",
          "text": [
            "Model: \"sequential\"\n",
            "_________________________________________________________________\n",
            " Layer (type)                Output Shape              Param #   \n",
            "=================================================================\n",
            " embedding (Embedding)       (128, None, 128)          12416     \n",
            "                                                                 \n",
            " lstm (LSTM)                 (128, None, 896)          3673600   \n",
            "                                                                 \n",
            " dense (Dense)               (128, None, 97)           87009     \n",
            "                                                                 \n",
            "=================================================================\n",
            "Total params: 3773025 (14.39 MB)\n",
            "Trainable params: 3773025 (14.39 MB)\n",
            "Non-trainable params: 0 (0.00 Byte)\n",
            "_________________________________________________________________\n"
          ]
        }
      ]
    },
    {
      "cell_type": "code",
      "source": [
        "# Train the model\n",
        "training_record = model.fit(\n",
        "  x=dataset,\n",
        "  epochs=EPOCHS,\n",
        "  callbacks=[\n",
        "    checkpoint_callback\n",
        "  ]\n",
        ")"
      ],
      "metadata": {
        "colab": {
          "base_uri": "https://localhost:8080/"
        },
        "id": "JM5fyrOMno34",
        "outputId": "6c6a5ffb-2038-4f8c-cb55-bec4175ecf1e"
      },
      "execution_count": null,
      "outputs": [
        {
          "output_type": "stream",
          "name": "stdout",
          "text": [
            "Epoch 1/72\n",
            "261/261 [==============================] - 9s 19ms/step - loss: 2.3367\n",
            "Epoch 2/72\n",
            "261/261 [==============================] - 6s 15ms/step - loss: 1.6571\n",
            "Epoch 3/72\n",
            "261/261 [==============================] - 5s 14ms/step - loss: 1.4290\n",
            "Epoch 4/72\n",
            "261/261 [==============================] - 5s 15ms/step - loss: 1.3141\n",
            "Epoch 5/72\n",
            "261/261 [==============================] - 5s 14ms/step - loss: 1.2476\n",
            "Epoch 6/72\n",
            "261/261 [==============================] - 5s 15ms/step - loss: 1.2025\n",
            "Epoch 7/72\n",
            "261/261 [==============================] - 5s 14ms/step - loss: 1.1701\n",
            "Epoch 8/72\n",
            "261/261 [==============================] - 5s 15ms/step - loss: 1.1430\n",
            "Epoch 9/72\n",
            "261/261 [==============================] - 5s 14ms/step - loss: 1.1201\n",
            "Epoch 10/72\n",
            "261/261 [==============================] - 5s 14ms/step - loss: 1.1009\n",
            "Epoch 11/72\n",
            "261/261 [==============================] - 5s 14ms/step - loss: 1.0834\n",
            "Epoch 12/72\n",
            "261/261 [==============================] - 5s 15ms/step - loss: 1.0670\n",
            "Epoch 13/72\n",
            "261/261 [==============================] - 6s 15ms/step - loss: 1.0522\n",
            "Epoch 14/72\n",
            "261/261 [==============================] - 5s 14ms/step - loss: 1.0380\n",
            "Epoch 15/72\n",
            "261/261 [==============================] - 5s 15ms/step - loss: 1.0233\n",
            "Epoch 16/72\n",
            "261/261 [==============================] - 5s 14ms/step - loss: 1.0103\n",
            "Epoch 17/72\n",
            "261/261 [==============================] - 5s 15ms/step - loss: 0.9973\n",
            "Epoch 18/72\n",
            "261/261 [==============================] - 5s 14ms/step - loss: 0.9841\n",
            "Epoch 19/72\n",
            "261/261 [==============================] - 5s 15ms/step - loss: 0.9717\n",
            "Epoch 20/72\n",
            "261/261 [==============================] - 5s 14ms/step - loss: 0.9593\n",
            "Epoch 21/72\n",
            "261/261 [==============================] - 5s 14ms/step - loss: 0.9478\n",
            "Epoch 22/72\n",
            "261/261 [==============================] - 5s 14ms/step - loss: 0.9355\n",
            "Epoch 23/72\n",
            "261/261 [==============================] - 5s 15ms/step - loss: 0.9237\n",
            "Epoch 24/72\n",
            "261/261 [==============================] - 5s 14ms/step - loss: 0.9122\n",
            "Epoch 25/72\n",
            "261/261 [==============================] - 5s 14ms/step - loss: 0.9008\n",
            "Epoch 26/72\n",
            "261/261 [==============================] - 5s 14ms/step - loss: 0.8905\n",
            "Epoch 27/72\n",
            "261/261 [==============================] - 5s 14ms/step - loss: 0.8797\n",
            "Epoch 28/72\n",
            "261/261 [==============================] - 5s 14ms/step - loss: 0.8698\n",
            "Epoch 29/72\n",
            "261/261 [==============================] - 5s 15ms/step - loss: 0.8599\n",
            "Epoch 30/72\n",
            "261/261 [==============================] - 5s 15ms/step - loss: 0.8507\n",
            "Epoch 31/72\n",
            "261/261 [==============================] - 5s 14ms/step - loss: 0.8419\n",
            "Epoch 32/72\n",
            "261/261 [==============================] - 5s 14ms/step - loss: 0.8328\n",
            "Epoch 33/72\n",
            "261/261 [==============================] - 5s 14ms/step - loss: 0.8252\n",
            "Epoch 34/72\n",
            "261/261 [==============================] - 5s 14ms/step - loss: 0.8170\n",
            "Epoch 35/72\n",
            "261/261 [==============================] - 5s 14ms/step - loss: 0.8098\n",
            "Epoch 36/72\n",
            "261/261 [==============================] - 5s 15ms/step - loss: 0.8023\n",
            "Epoch 37/72\n",
            "261/261 [==============================] - 5s 14ms/step - loss: 0.7959\n",
            "Epoch 38/72\n",
            "261/261 [==============================] - 5s 14ms/step - loss: 0.7895\n",
            "Epoch 39/72\n",
            "261/261 [==============================] - 5s 15ms/step - loss: 0.7837\n",
            "Epoch 40/72\n",
            "261/261 [==============================] - 5s 14ms/step - loss: 0.7785\n",
            "Epoch 41/72\n",
            "261/261 [==============================] - 5s 15ms/step - loss: 0.7728\n",
            "Epoch 42/72\n",
            "261/261 [==============================] - 5s 14ms/step - loss: 0.7680\n",
            "Epoch 43/72\n",
            "261/261 [==============================] - 5s 14ms/step - loss: 0.7627\n",
            "Epoch 44/72\n",
            "261/261 [==============================] - 6s 16ms/step - loss: 0.7579\n",
            "Epoch 45/72\n",
            "261/261 [==============================] - 5s 15ms/step - loss: 0.7539\n",
            "Epoch 46/72\n",
            "261/261 [==============================] - 5s 15ms/step - loss: 0.7502\n",
            "Epoch 47/72\n",
            "261/261 [==============================] - 5s 14ms/step - loss: 0.7457\n",
            "Epoch 48/72\n",
            "261/261 [==============================] - 5s 15ms/step - loss: 0.7434\n",
            "Epoch 49/72\n",
            "261/261 [==============================] - 5s 15ms/step - loss: 0.7400\n",
            "Epoch 50/72\n",
            "261/261 [==============================] - 5s 14ms/step - loss: 0.7360\n",
            "Epoch 51/72\n",
            "261/261 [==============================] - 5s 15ms/step - loss: 0.7331\n",
            "Epoch 52/72\n",
            "261/261 [==============================] - 5s 14ms/step - loss: 0.7303\n",
            "Epoch 53/72\n",
            "261/261 [==============================] - 5s 14ms/step - loss: 0.7281\n",
            "Epoch 54/72\n",
            "261/261 [==============================] - 5s 15ms/step - loss: 0.7251\n",
            "Epoch 55/72\n",
            "261/261 [==============================] - 5s 14ms/step - loss: 0.7221\n",
            "Epoch 56/72\n",
            "261/261 [==============================] - 5s 15ms/step - loss: 0.7208\n",
            "Epoch 57/72\n",
            "261/261 [==============================] - 5s 15ms/step - loss: 0.7174\n",
            "Epoch 58/72\n",
            "261/261 [==============================] - 5s 14ms/step - loss: 0.7161\n",
            "Epoch 59/72\n",
            "261/261 [==============================] - 5s 14ms/step - loss: 0.7139\n",
            "Epoch 60/72\n",
            "261/261 [==============================] - 5s 15ms/step - loss: 0.7121\n",
            "Epoch 61/72\n",
            "261/261 [==============================] - 5s 14ms/step - loss: 0.7099\n",
            "Epoch 62/72\n",
            "261/261 [==============================] - 5s 14ms/step - loss: 0.7073\n",
            "Epoch 63/72\n",
            "261/261 [==============================] - 5s 15ms/step - loss: 0.7057\n",
            "Epoch 64/72\n",
            "261/261 [==============================] - 5s 14ms/step - loss: 0.7040\n",
            "Epoch 65/72\n",
            "261/261 [==============================] - 5s 14ms/step - loss: 0.7028\n",
            "Epoch 66/72\n",
            "261/261 [==============================] - 5s 14ms/step - loss: 0.7011\n",
            "Epoch 67/72\n",
            "261/261 [==============================] - 5s 14ms/step - loss: 0.7008\n",
            "Epoch 68/72\n",
            "261/261 [==============================] - 5s 15ms/step - loss: 0.6985\n",
            "Epoch 69/72\n",
            "261/261 [==============================] - 5s 15ms/step - loss: 0.6974\n",
            "Epoch 70/72\n",
            "261/261 [==============================] - 5s 14ms/step - loss: 0.6956\n",
            "Epoch 71/72\n",
            "261/261 [==============================] - 5s 15ms/step - loss: 0.6943\n",
            "Epoch 72/72\n",
            "261/261 [==============================] - 5s 15ms/step - loss: 0.6965\n"
          ]
        }
      ]
    },
    {
      "cell_type": "code",
      "source": [
        "# Plot the loss graph\n",
        "def render_training_record(training_record):\n",
        "    loss = training_record.history['loss']\n",
        "    plt.plot(loss, color='red')\n",
        "\n",
        "    plt.title('Loss')\n",
        "    plt.xlabel('Epoch')\n",
        "    plt.ylabel('Loss')\n",
        "\n",
        "    plt.grid(linestyle='--', linewidth=1, alpha=0.5)\n",
        "    plt.show()\n",
        "\n",
        "render_training_record(training_record)\n",
        "\n",
        "# Save the loss graph\n",
        "loss_filename = f'{DATABASE_FILEPATH.split(\".\")[0]}_lr{LEARNING_RATE}' + \\\n",
        "                f'_units{rnn_units}.json'\n",
        "with open(loss_filename, 'w') as f:\n",
        "    json.dump(training_record.history, f)"
      ],
      "metadata": {
        "id": "ietyw1L6nplD",
        "colab": {
          "base_uri": "https://localhost:8080/"
        },
        "outputId": "26c82e2a-655e-42ce-d2e8-0fa318309f44"
      },
      "execution_count": null,
      "outputs": [
        {
          "output_type": "display_data",
          "data": {
            "text/plain": [
              "<Figure size 640x480 with 1 Axes>"
            ],
            "image/png": "[encoded data removed]"
          },
          "metadata": {}
        }
      ]
    },
    {
      "cell_type": "code",
      "source": [
        "# Rebuild the model for inference\n",
        "inference_batch_size = 1\n",
        "\n",
        "model = build_model(vocabulary_size, embedding_dim, rnn_units, batch_size=1)\n",
        "model.load_weights(tf.train.latest_checkpoint(checkpoint_dir))\n",
        "\n",
        "model.build(tf.TensorShape([inference_batch_size, None]))\n",
        "\n",
        "# Function for calling inference with the model\n",
        "def generate_text(model, initial_chars, generate_length=1000, temperature=1.0):\n",
        "\n",
        "    # Encode the initial string\n",
        "    input_indices = [char_to_idx[s] for s in initial_chars]\n",
        "    input_indices = tf.expand_dims(input_indices, 0)\n",
        "\n",
        "    text_generated = []\n",
        "    model.reset_states()\n",
        "\n",
        "    for char_index in range(generate_length):\n",
        "\n",
        "        predictions = model(input_indices)\n",
        "        predictions = tf.squeeze(predictions, 0)  # Remove the extra dimension for batch\n",
        "        predictions = predictions / temperature\n",
        "\n",
        "        # Somewhat-randomly sample a following character from the model\n",
        "        estimated_idx = tf.random.categorical(\n",
        "          predictions,\n",
        "          num_samples=1\n",
        "        )[-1,0].numpy()\n",
        "\n",
        "        # Now add the predicted character to the running input for the model\n",
        "        input_indices = tf.expand_dims([estimated_idx], 0)\n",
        "\n",
        "        text_generated.append(idx_to_char[estimated_idx])\n",
        "\n",
        "    return (initial_chars + ''.join(text_generated))"
      ],
      "metadata": {
        "id": "tTMrQYqzzYej"
      },
      "execution_count": null,
      "outputs": []
    },
    {
      "cell_type": "code",
      "source": [
        "print(generate_text(model, initial_chars=u\"     Watson \"))"
      ],
      "metadata": {
        "colab": {
          "base_uri": "https://localhost:8080/"
        },
        "id": "jYqIaVC076Xg",
        "outputId": "ab356886-73f0-476f-ebdc-c8a4a04b7c20"
      },
      "execution_count": null,
      "outputs": [
        {
          "output_type": "stream",
          "name": "stdout",
          "text": [
            "     Watson manage the county. Even them trivial inaction which she said, for I felt that even\n",
            "     they were any other way; insinted his eyes fixed upon by the water.\"\n",
            "\n",
            "     \"I never smeled any night to prove it.\"\n",
            "\n",
            "     \"You!\" I said to assure her grim debres and lodging-hour, with no hanged over extent convulsive\n",
            "     medice?\"\n",
            "\n",
            "     I looked at the arrival of the inner room while you\n",
            "     get at our bereave so much non5. He seized the\n",
            "     wooden doctor and slidved up to the black with a\n",
            "     man as I? What was I dare not touched\n",
            "     him obtrusive, his hat and picked out the efforts of the upper window. The drunken escape was\n",
            "     blood. They drove him with the kitchen bounds, and\n",
            "     the travel hardened to-morrow. T.\"\n",
            "\n",
            "     \"You never quattered our own reflexal.\"\n",
            "\n",
            "     \"You are not young man,' I answered. \"The word Haturally must\n",
            "     have been expected to show himself that I should deduce me.\"\n",
            "\n",
            "     \"How was it where?\" I asked.\n",
            "\n",
            "     My friend was anger. \"You mean enough and to quiet only\n",
            "  \n"
          ]
        }
      ]
    },
    {
      "cell_type": "code",
      "source": [
        "print(generate_text(model, initial_chars=u\"     Homes \"))"
      ],
      "metadata": {
        "colab": {
          "base_uri": "https://localhost:8080/"
        },
        "id": "wyadkCEw79bt",
        "outputId": "e623666e-6e7a-4d69-d430-402a1a349fd2"
      },
      "execution_count": null,
      "outputs": [
        {
          "output_type": "stream",
          "name": "stdout",
          "text": [
            "     Homes will come to that legal way into both by the promptings of the\n",
            "     Univermit of the Abbey Grange they would pass when once for\n",
            "     suicing our attention very rich as it may be of on the smoke. Yet he glowe\n",
            "     mustion stop that she had appeared in my power to\n",
            "     the note of the kingdom to be done out in crincing me to force\n",
            "     you to understand that it turn some more in the room. I lift\n",
            "     him between Palneys, and his son depressed his head, and her face showed that he was sterror and forwarded and\n",
            "     impressive effects, Mr. McMurdo; but I think no senseless for very\n",
            "     clever,\" said he. \"Who is this to lock?\"\n",
            "\n",
            "     \"Experience!\" said Holmes.\n",
            "\n",
            "     \"I have not strange a month there. But my nerves\n",
            "     scattered movements money.\"\n",
            "\n",
            "     \"I came slowly brought pastly,\" said he. \"There is a train to take me away, and we\n",
            "     forced Baynes's, wall and lit on the side table.\"\n",
            "\n",
            "     \"I will tell you, now, Watson, we\n",
            "     have reason alone in a very quiet note upon a couple of\n",
            "   \n"
          ]
        }
      ]
    },
    {
      "cell_type": "code",
      "source": [
        "print(generate_text(model, initial_chars=u\"     Professor Tu \"))"
      ],
      "metadata": {
        "colab": {
          "base_uri": "https://localhost:8080/"
        },
        "id": "2tzyQ14l9nQU",
        "outputId": "068df5ab-db95-4aa9-ca43-18a5b8414221"
      },
      "execution_count": null,
      "outputs": [
        {
          "output_type": "stream",
          "name": "stdout",
          "text": [
            "     Professor Tu To Halliday's Peorge Street, \"I confess that I hate in very first\n",
            "     track which can poisoner de to his horror, and returned a stick or cellar foresa have been translaged.\"\n",
            "\n",
            "     With a thousand tives the smell with his keen eyes upon my writing desk     guard within a few minutes of interest, but written a name?\"\n",
            "\n",
            "     \"I cannot think it was always a tool. I have no doubt that I am able to what you have done without. Come along, Dr. Watson. Do there are a\n",
            "     word to be staged before you by a weapon, it mighty be of no questions.\n",
            "\n",
            "     On inquiries are fairly often, and only just had thought of the only\n",
            "     friends to Sherlock Holmes. This, however, is the\n",
            "     d have\n",
            "     some little doubt upon a word. A man of darkness of the peculpary\n",
            "     destruction like you, 'though\n",
            "     I have a quick glance to leave this very worse than that.\"\n",
            "\n",
            "     Holmes sat for some time, for some little time, I found myself at one time that\n",
            "     ve eserve of his struck for body to know that he misses h\n"
          ]
        }
      ]
    }
  ]
}