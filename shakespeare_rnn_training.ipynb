{
  "cells": [
    {
      "cell_type": "code",
      "execution_count": 1,
      "metadata": {
        "id": "5eQNh0EVnXVl"
      },
      "outputs": [],
      "source": [
        "import tensorflow as tf\n",
        "import matplotlib.pyplot as plt\n",
        "import numpy as np\n",
        "import platform\n",
        "import time\n",
        "import pathlib\n",
        "import os\n",
        "import json"
      ]
    },
    {
      "cell_type": "code",
      "execution_count": 2,
      "metadata": {
        "colab": {
          "base_uri": "https://localhost:8080/"
        },
        "id": "q6Ie5MyBnczt",
        "outputId": "695b9806-f8e6-4c87-9063-04ad9b30169f"
      },
      "outputs": [
        {
          "name": "stdout",
          "output_type": "stream",
          "text": [
            "--2024-03-25 01:29:30--  https://raw.githubusercontent.com/karpathy/char-rnn/master/data/tinyshakespeare/input.txt\n",
            "Resolving raw.githubusercontent.com (raw.githubusercontent.com)... 185.199.108.133, 185.199.109.133, 185.199.110.133, ...\n",
            "Connecting to raw.githubusercontent.com (raw.githubusercontent.com)|185.199.108.133|:443... connected.\n",
            "HTTP request sent, awaiting response... 200 OK\n",
            "Length: 1115394 (1.1M) [text/plain]\n",
            "Saving to: ‘input.txt’\n",
            "\n",
            "\rinput.txt             0%[                    ]       0  --.-KB/s               \rinput.txt           100%[===================>]   1.06M  --.-KB/s    in 0.02s   \n",
            "\n",
            "2024-03-25 01:29:31 (45.3 MB/s) - ‘input.txt’ saved [1115394/1115394]\n",
            "\n"
          ]
        }
      ],
      "source": [
        "!wget https://raw.githubusercontent.com/karpathy/char-rnn/master/data/tinyshakespeare/input.txt\n",
        "\n",
        "DATABASE_FILEPATH = 'input.txt'\n",
        "\n",
        "sequence_length = 100\n",
        "BATCH_SIZE = 128\n",
        "BUFFER_SIZE = 12000  # Elements are stored in a buffer of this size\n",
        "\n",
        "embedding_dim = 256\n",
        "rnn_units = 1280\n",
        "\n",
        "LEARNING_RATE = 0.002\n",
        "EPOCHS = 64"
      ]
    },
    {
      "cell_type": "code",
      "execution_count": 3,
      "metadata": {
        "colab": {
          "base_uri": "https://localhost:8080/"
        },
        "id": "s-55jwgNng8l",
        "outputId": "0c7dea21-c1cd-4d70-91d5-a7854cd2bb09"
      },
      "outputs": [
        {
          "name": "stdout",
          "output_type": "stream",
          "text": [
            "1115394 characters loaded.\n"
          ]
        }
      ],
      "source": [
        "# Load text from the input database\n",
        "with open(DATABASE_FILEPATH, mode='r') as f:\n",
        "  all_content = f.read()\n",
        "\n",
        "print(f'{len(all_content)} characters loaded.')\n",
        "\n",
        "# Find all the unique characters in the file\n",
        "unique_chars = sorted(set(all_content))\n",
        "vocabulary_size = len(unique_chars)\n",
        "\n",
        "# Create index to vocabulary matching\n",
        "char_to_idx = {ch:i for i,ch in enumerate(unique_chars)}\n",
        "idx_to_char = np.array(unique_chars)\n",
        "\n",
        "# Encode the input text for training\n",
        "encoded_text = np.array([char_to_idx[char] for char in all_content])\n",
        "examples_per_epoch = len(all_content) // (sequence_length + 1)\n",
        "\n",
        "# Package the dataset into batches\n",
        "character_dataset = tf.data.Dataset.from_tensor_slices(encoded_text)\n",
        "sequences = character_dataset.batch(sequence_length + 1, drop_remainder=True)\n",
        "\n",
        "# Finalize the dataset\n",
        "def chunk_data(chunk):\n",
        "    input = chunk[:-1]\n",
        "    target = chunk[1:]\n",
        "    return input, target\n",
        "\n",
        "dataset = sequences.map(chunk_data)\n",
        "dataset = dataset.shuffle(BUFFER_SIZE).batch(BATCH_SIZE, drop_remainder=True)"
      ]
    },
    {
      "cell_type": "code",
      "execution_count": 4,
      "metadata": {
        "colab": {
          "base_uri": "https://localhost:8080/"
        },
        "id": "ZayCNVLwnkld",
        "outputId": "5824914e-6a78-4ab3-981d-c59b97bd45dd"
      },
      "outputs": [
        {
          "name": "stdout",
          "output_type": "stream",
          "text": [
            "Model: \"sequential\"\n",
            "_________________________________________________________________\n",
            " Layer (type)                Output Shape              Param #   \n",
            "=================================================================\n",
            " embedding (Embedding)       (128, None, 256)          16640     \n",
            "                                                                 \n",
            " lstm (LSTM)                 (128, None, 1280)         7869440   \n",
            "                                                                 \n",
            " dense (Dense)               (128, None, 65)           83265     \n",
            "                                                                 \n",
            "=================================================================\n",
            "Total params: 7969345 (30.40 MB)\n",
            "Trainable params: 7969345 (30.40 MB)\n",
            "Non-trainable params: 0 (0.00 Byte)\n",
            "_________________________________________________________________\n"
          ]
        }
      ],
      "source": [
        "def build_model(vocabulary_size, embedding_dim, rnn_units, batch_size):\n",
        "\n",
        "    model = tf.keras.models.Sequential()\n",
        "\n",
        "    model.add(tf.keras.layers.Embedding(\n",
        "      input_dim=vocabulary_size,\n",
        "      output_dim=embedding_dim,\n",
        "      batch_input_shape=[batch_size, None]\n",
        "    ))\n",
        "\n",
        "    model.add(tf.keras.layers.LSTM(\n",
        "      units=rnn_units,\n",
        "      return_sequences=True,\n",
        "      stateful=True,\n",
        "      recurrent_initializer=tf.keras.initializers.GlorotNormal()\n",
        "    ))\n",
        "\n",
        "    model.add(tf.keras.layers.Dense(vocabulary_size))\n",
        "\n",
        "    return model\n",
        "\n",
        "# Build the model\n",
        "model = build_model(vocabulary_size, embedding_dim, rnn_units, BATCH_SIZE)\n",
        "\n",
        "# Compile the model\n",
        "def loss(labels, logits):\n",
        "    return tf.keras.losses.sparse_categorical_crossentropy(\n",
        "      y_true=labels,\n",
        "      y_pred=logits,\n",
        "      from_logits=True\n",
        "    )\n",
        "adam_optimizer = tf.keras.optimizers.Adam(learning_rate=LEARNING_RATE)\n",
        "\n",
        "model.compile(\n",
        "    optimizer=adam_optimizer,\n",
        "    loss=loss\n",
        ")\n",
        "\n",
        "# Handle directory management for checkpoints\n",
        "checkpoint_dir = 'tmp/checkpoints'\n",
        "os.makedirs(checkpoint_dir, exist_ok=True)\n",
        "\n",
        "checkpoint_prefix = os.path.join(checkpoint_dir, 'ckpt_{epoch}')\n",
        "\n",
        "checkpoint_callback=tf.keras.callbacks.ModelCheckpoint(\n",
        "    filepath=checkpoint_prefix,\n",
        "    save_weights_only=True\n",
        ")\n",
        "\n",
        "model.summary()"
      ]
    },
    {
      "cell_type": "code",
      "execution_count": 5,
      "metadata": {
        "colab": {
          "base_uri": "https://localhost:8080/"
        },
        "id": "JM5fyrOMno34",
        "outputId": "c2758672-375f-4036-ea89-922eb96471b8"
      },
      "outputs": [
        {
          "name": "stdout",
          "output_type": "stream",
          "text": [
            "Epoch 1/64\n",
            "86/86 [==============================] - 23s 77ms/step - loss: 3.0982\n",
            "Epoch 2/64\n",
            "86/86 [==============================] - 8s 67ms/step - loss: 2.2255\n",
            "Epoch 3/64\n",
            "86/86 [==============================] - 7s 63ms/step - loss: 1.9303\n",
            "Epoch 4/64\n",
            "86/86 [==============================] - 8s 65ms/step - loss: 1.7239\n",
            "Epoch 5/64\n",
            "86/86 [==============================] - 7s 65ms/step - loss: 1.5949\n",
            "Epoch 6/64\n",
            "86/86 [==============================] - 7s 63ms/step - loss: 1.5101\n",
            "Epoch 7/64\n",
            "86/86 [==============================] - 8s 65ms/step - loss: 1.4504\n",
            "Epoch 8/64\n",
            "86/86 [==============================] - 7s 64ms/step - loss: 1.4060\n",
            "Epoch 9/64\n",
            "86/86 [==============================] - 7s 65ms/step - loss: 1.3696\n",
            "Epoch 10/64\n",
            "86/86 [==============================] - 8s 64ms/step - loss: 1.3402\n",
            "Epoch 11/64\n",
            "86/86 [==============================] - 8s 67ms/step - loss: 1.3144\n",
            "Epoch 12/64\n",
            "86/86 [==============================] - 8s 66ms/step - loss: 1.2893\n",
            "Epoch 13/64\n",
            "86/86 [==============================] - 8s 65ms/step - loss: 1.2654\n",
            "Epoch 14/64\n",
            "86/86 [==============================] - 8s 66ms/step - loss: 1.2428\n",
            "Epoch 15/64\n",
            "86/86 [==============================] - 7s 65ms/step - loss: 1.2206\n",
            "Epoch 16/64\n",
            "86/86 [==============================] - 9s 66ms/step - loss: 1.1981\n",
            "Epoch 17/64\n",
            "86/86 [==============================] - 7s 66ms/step - loss: 1.1754\n",
            "Epoch 18/64\n",
            "86/86 [==============================] - 8s 65ms/step - loss: 1.1516\n",
            "Epoch 19/64\n",
            "86/86 [==============================] - 7s 65ms/step - loss: 1.1267\n",
            "Epoch 20/64\n",
            "86/86 [==============================] - 8s 66ms/step - loss: 1.1010\n",
            "Epoch 21/64\n",
            "86/86 [==============================] - 8s 66ms/step - loss: 1.0750\n",
            "Epoch 22/64\n",
            "86/86 [==============================] - 7s 65ms/step - loss: 1.0467\n",
            "Epoch 23/64\n",
            "86/86 [==============================] - 7s 66ms/step - loss: 1.0180\n",
            "Epoch 24/64\n",
            "86/86 [==============================] - 7s 66ms/step - loss: 0.9888\n",
            "Epoch 25/64\n",
            "86/86 [==============================] - 7s 65ms/step - loss: 0.9605\n",
            "Epoch 26/64\n",
            "86/86 [==============================] - 8s 66ms/step - loss: 0.9276\n",
            "Epoch 27/64\n",
            "86/86 [==============================] - 8s 68ms/step - loss: 0.9002\n",
            "Epoch 28/64\n",
            "86/86 [==============================] - 8s 66ms/step - loss: 0.8692\n",
            "Epoch 29/64\n",
            "86/86 [==============================] - 8s 65ms/step - loss: 0.8411\n",
            "Epoch 30/64\n",
            "86/86 [==============================] - 7s 64ms/step - loss: 0.8121\n",
            "Epoch 31/64\n",
            "86/86 [==============================] - 8s 65ms/step - loss: 0.7856\n",
            "Epoch 32/64\n",
            "86/86 [==============================] - 8s 66ms/step - loss: 0.7587\n",
            "Epoch 33/64\n",
            "86/86 [==============================] - 7s 64ms/step - loss: 0.7345\n",
            "Epoch 34/64\n",
            "86/86 [==============================] - 8s 64ms/step - loss: 0.7106\n",
            "Epoch 35/64\n",
            "86/86 [==============================] - 7s 65ms/step - loss: 0.6891\n",
            "Epoch 36/64\n",
            "86/86 [==============================] - 7s 66ms/step - loss: 0.6678\n",
            "Epoch 37/64\n",
            "86/86 [==============================] - 7s 64ms/step - loss: 0.6497\n",
            "Epoch 38/64\n",
            "86/86 [==============================] - 8s 67ms/step - loss: 0.6309\n",
            "Epoch 39/64\n",
            "86/86 [==============================] - 7s 65ms/step - loss: 0.6159\n",
            "Epoch 40/64\n",
            "86/86 [==============================] - 7s 66ms/step - loss: 0.5976\n",
            "Epoch 41/64\n",
            "86/86 [==============================] - 7s 65ms/step - loss: 0.5816\n",
            "Epoch 42/64\n",
            "86/86 [==============================] - 8s 65ms/step - loss: 0.5698\n",
            "Epoch 43/64\n",
            "86/86 [==============================] - 7s 65ms/step - loss: 0.5610\n",
            "Epoch 44/64\n",
            "86/86 [==============================] - 7s 65ms/step - loss: 0.5476\n",
            "Epoch 45/64\n",
            "86/86 [==============================] - 8s 64ms/step - loss: 0.5350\n",
            "Epoch 46/64\n",
            "86/86 [==============================] - 8s 66ms/step - loss: 0.5272\n",
            "Epoch 47/64\n",
            "86/86 [==============================] - 7s 65ms/step - loss: 0.5177\n",
            "Epoch 48/64\n",
            "86/86 [==============================] - 8s 65ms/step - loss: 0.5080\n",
            "Epoch 49/64\n",
            "86/86 [==============================] - 8s 66ms/step - loss: 0.5000\n",
            "Epoch 50/64\n",
            "86/86 [==============================] - 7s 65ms/step - loss: 0.4911\n",
            "Epoch 51/64\n",
            "86/86 [==============================] - 8s 66ms/step - loss: 0.4838\n",
            "Epoch 52/64\n",
            "86/86 [==============================] - 7s 66ms/step - loss: 0.4769\n",
            "Epoch 53/64\n",
            "86/86 [==============================] - 8s 68ms/step - loss: 0.4725\n",
            "Epoch 54/64\n",
            "86/86 [==============================] - 7s 65ms/step - loss: 0.4662\n",
            "Epoch 55/64\n",
            "86/86 [==============================] - 7s 65ms/step - loss: 0.4610\n",
            "Epoch 56/64\n",
            "86/86 [==============================] - 7s 66ms/step - loss: 0.4552\n",
            "Epoch 57/64\n",
            "86/86 [==============================] - 8s 67ms/step - loss: 0.4517\n",
            "Epoch 58/64\n",
            "86/86 [==============================] - 7s 65ms/step - loss: 0.4458\n",
            "Epoch 59/64\n",
            "86/86 [==============================] - 8s 65ms/step - loss: 0.4442\n",
            "Epoch 60/64\n",
            "86/86 [==============================] - 7s 65ms/step - loss: 0.4414\n",
            "Epoch 61/64\n",
            "86/86 [==============================] - 7s 65ms/step - loss: 0.4392\n",
            "Epoch 62/64\n",
            "86/86 [==============================] - 8s 66ms/step - loss: 0.4364\n",
            "Epoch 63/64\n",
            "86/86 [==============================] - 8s 67ms/step - loss: 0.4296\n",
            "Epoch 64/64\n",
            "86/86 [==============================] - 8s 65ms/step - loss: 0.4271\n"
          ]
        }
      ],
      "source": [
        "# Train the model\n",
        "training_record = model.fit(\n",
        "  x=dataset,\n",
        "  epochs=EPOCHS,\n",
        "  callbacks=[\n",
        "    checkpoint_callback\n",
        "  ]\n",
        ")"
      ]
    },
    {
      "cell_type": "code",
      "execution_count": 6,
      "metadata": {
        "colab": {
          "base_uri": "https://localhost:8080/",
          "height": 472
        },
        "id": "ietyw1L6nplD",
        "outputId": "f4001273-bceb-4a2f-971e-4dfe8f649d65"
      },
      "outputs": [
        {
          "data": {
            "image/png": "[encoded data removed]",
            "text/plain": [
              "<Figure size 640x480 with 1 Axes>"
            ]
          },
          "metadata": {},
          "output_type": "display_data"
        }
      ],
      "source": [
        "# Plot the loss graph\n",
        "def render_training_record(training_record):\n",
        "    loss = training_record.history['loss']\n",
        "    plt.plot(loss, color='red')\n",
        "\n",
        "    plt.title('Loss')\n",
        "    plt.xlabel('Epoch')\n",
        "    plt.ylabel('Loss')\n",
        "\n",
        "    plt.grid(linestyle='--', linewidth=1, alpha=0.5)\n",
        "    plt.show()\n",
        "\n",
        "render_training_record(training_record)\n",
        "\n",
        "# Save the loss graph\n",
        "loss_filename = f'{DATABASE_FILEPATH.split(\".\")[0]}_lr{LEARNING_RATE}' + \\\n",
        "                f'_units{rnn_units}.json'\n",
        "with open(loss_filename, 'w') as f:\n",
        "    json.dump(training_record.history, f)"
      ]
    },
    {
      "cell_type": "code",
      "execution_count": 7,
      "metadata": {
        "id": "CIHLagxCFjJP"
      },
      "outputs": [],
      "source": [
        "LOAD_CHECKPOINT = None"
      ]
    },
    {
      "cell_type": "code",
      "execution_count": 8,
      "metadata": {
        "id": "tTMrQYqzzYej"
      },
      "outputs": [],
      "source": [
        "# Rebuild the model for inference\n",
        "inference_batch_size = 1\n",
        "\n",
        "model = build_model(vocabulary_size, embedding_dim, rnn_units, batch_size=1)\n",
        "if LOAD_CHECKPOINT is None:\n",
        "    model.load_weights(tf.train.latest_checkpoint(checkpoint_dir))\n",
        "else:\n",
        "    specific_checkpoint = os.path.join(checkpoint_dir, f'ckpt_{LOAD_CHECKPOINT}')\n",
        "    model.load_weights(specific_checkpoint)\n",
        "\n",
        "model.build(tf.TensorShape([inference_batch_size, None]))\n",
        "\n",
        "# Function for calling inference with the model\n",
        "def generate_text(model, initial_chars, generate_length=1000, temperature=1.0):\n",
        "\n",
        "    # Encode the initial string\n",
        "    input_indices = [char_to_idx[s] for s in initial_chars]\n",
        "    input_indices = tf.expand_dims(input_indices, 0)\n",
        "\n",
        "    text_generated = []\n",
        "    model.reset_states()\n",
        "\n",
        "    for char_index in range(generate_length):\n",
        "\n",
        "        predictions = model(input_indices)\n",
        "        predictions = tf.squeeze(predictions, 0)  # Remove the extra dimension for batch\n",
        "        predictions = predictions / temperature\n",
        "\n",
        "        # Somewhat-randomly sample a following character from the model\n",
        "        estimated_idx = tf.random.categorical(\n",
        "          predictions,\n",
        "          num_samples=1\n",
        "        )[-1,0].numpy()\n",
        "\n",
        "        # Now add the predicted character to the running input for the model\n",
        "        input_indices = tf.expand_dims([estimated_idx], 0)\n",
        "\n",
        "        text_generated.append(idx_to_char[estimated_idx])\n",
        "\n",
        "    return (initial_chars + ''.join(text_generated))"
      ]
    },
    {
      "cell_type": "code",
      "execution_count": 9,
      "metadata": {
        "colab": {
          "base_uri": "https://localhost:8080/"
        },
        "id": "jYqIaVC076Xg",
        "outputId": "35e35ea4-4078-4725-f163-ff7ca12568d2"
      },
      "outputs": [
        {
          "name": "stdout",
          "output_type": "stream",
          "text": [
            "PORTIA:\n",
            "Then Warwick, thou art my warrior;\n",
            "For I am rough at all that cares these bold ceasan:\n",
            "The grey him that hath lived so sound\n",
            "The accuser and the all-building\n",
            "Where he done so wisely to all our heads.\n",
            "\n",
            "HASTINGS:\n",
            "I thank your grace;\n",
            "Tell me what she studied, nor sea\n",
            "What's 'But it clouds and there no less\n",
            "Thy blood, my brother Grey, a blow of this.\n",
            "\n",
            "HENRY BOLINGBROKE:\n",
            "First, your emple, holy father:\n",
            "Madam, yourselves are unnotard lucky\n",
            "Whereoften had denied me to pry her joints as perforce.\n",
            "\n",
            "MENENIUS:\n",
            "I will tell you for she comes.\n",
            "O honey on me; nay, speak mou lies:\n",
            "I heard you have you dance. Probately then took the plants,\n",
            "Yet to streap end.\n",
            "\n",
            "MERCUTIO:\n",
            "We to see the day; for this will out\n",
            "My father with these all fort,\n",
            "By cold ere I can confess it, and red with your sons,\n",
            "To win the earth fall of Greece\n",
            "Proclaim you to the people.\n",
            "\n",
            "All:\n",
            "Why look you patient for a king!\n",
            "The loss of the man be which was\n",
            "To take in me to swear a while.\n",
            "This fear, I speak doth patience this?\n",
            "\n",
            "CLIFFORD:\n",
            "N\n"
          ]
        }
      ],
      "source": [
        "print(generate_text(model, initial_chars=u\"PORTIA:\"))"
      ]
    },
    {
      "cell_type": "code",
      "execution_count": 17,
      "metadata": {
        "colab": {
          "base_uri": "https://localhost:8080/"
        },
        "id": "wyadkCEw79bt",
        "outputId": "9ce5d274-8b27-4639-cac4-07ac7eda9348"
      },
      "outputs": [
        {
          "name": "stdout",
          "output_type": "stream",
          "text": [
            "ROMEO:\n",
            "Then murders here Montague hath set you\n",
            "A snockness of the keys; revenge their enmity\n",
            "With charge: much we rest, in that hard-headed multitude to be ingrateful,\n",
            "whereof thou shalt reign stole; I am resort; you do admit\n",
            "you of these trier hath touch'd you to the field?\n",
            "If no, my redresson: if you removed, his lifeit\n",
            "And hated to, with a devil\n",
            "The head, so far than I, it wrongs the contrary.\n",
            "My lord, who washt on\n",
            "'banished, have almost Rome, as they desire upon thee\n",
            "To visit would retart: the devil he swear.\n",
            "\n",
            "RICHARD:\n",
            "I confess sent you so out of women's cloud,\n",
            "By call'd you full as le.\n",
            "\n",
            "FRIAR LAURENCE:\n",
            "Now, by my headshe hand that stands\n",
            "For when we stain haste, and thankful for,\n",
            "embraces. What, farewell; I will; for had I be\n",
            "rough it like your worship. This night you do wrong me your knowledge,\n",
            "he would not need to push hastings: say you\n",
            "have no brother, and I could have been so bright down,\n",
            "And take our fear loud's the\n",
            "ther.\n",
            "\n",
            "AUTOLYCUS:\n",
            "He hath help with me it is the rest;\n",
            "And where \n"
          ]
        }
      ],
      "source": [
        "print(generate_text(model, initial_chars=u\"ROMEO:\", temperature=1.2))"
      ]
    }
  ],
  "metadata": {
    "accelerator": "GPU",
    "colab": {
      "gpuType": "V100",
      "provenance": []
    },
    "kernelspec": {
      "display_name": "Python 3",
      "name": "python3"
    },
    "language_info": {
      "name": "python"
    }
  },
  "nbformat": 4,
  "nbformat_minor": 0
}
